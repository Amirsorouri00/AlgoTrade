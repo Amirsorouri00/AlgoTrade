{
 "cells": [
  {
   "cell_type": "code",
   "execution_count": 8,
   "metadata": {},
   "outputs": [],
   "source": [
    "import numpy as np\n",
    "import pandas as pd\n",
    "import yfinance as yf\n",
    "import matplotlib.pyplot as plt\n",
    "import statsmodels.api as stat\n",
    "import statsmodels.tsa.stattools as ts\n",
    "from statsmodels.tsa.stattools import adfuller\n"
   ]
  },
  {
   "cell_type": "code",
   "execution_count": 9,
   "metadata": {},
   "outputs": [],
   "source": [
    "# Define list of tickers\n",
    "tickers_list = ['ZY', 'ZYNE']\n",
    "\n",
    "# Store the list in a Dataframe\n",
    "data = pd.DataFrame(columns=tickers_list)"
   ]
  },
  {
   "cell_type": "code",
   "execution_count": 10,
   "metadata": {},
   "outputs": [
    {
     "name": "stdout",
     "output_type": "stream",
     "text": [
      "[*********************100%***********************]  1 of 1 completed\n",
      "[*********************100%***********************]  1 of 1 completed\n"
     ]
    }
   ],
   "source": [
    "# Fetch the data\n",
    "for ticker in tickers_list:\n",
    "    data[ticker] = yf.download(ticker,'2021-07-01','2022-07-01')['Adj Close']"
   ]
  },
  {
   "cell_type": "code",
   "execution_count": 11,
   "metadata": {},
   "outputs": [],
   "source": [
    "# Perform ADF test on the closing prices of fetched data\n",
    "result = stat.OLS(data['ZY'], data['ZYNE']).fit()\n",
    "c_t = ts.adfuller(result.resid)"
   ]
  },
  {
   "cell_type": "code",
   "execution_count": 12,
   "metadata": {},
   "outputs": [
    {
     "name": "stdout",
     "output_type": "stream",
     "text": [
      "Date\n",
      "2021-07-01    40.230000\n",
      "2021-07-02    41.000000\n",
      "2021-07-06    40.360001\n",
      "2021-07-07    39.000000\n",
      "2021-07-08    37.230000\n",
      "Name: ZY, dtype: float64\n",
      "Date\n",
      "2021-07-01    5.35\n",
      "2021-07-02    5.23\n",
      "2021-07-06    5.16\n",
      "2021-07-07    5.10\n",
      "2021-07-08    5.09\n",
      "Name: ZYNE, dtype: float64\n",
      "Pair of securities is co-integrated\n"
     ]
    }
   ],
   "source": [
    "# Print the first 5 rows of our fetched data\n",
    "print (data['ZY'].head())\n",
    "print (data['ZYNE'].head())\n",
    "\n",
    "# Checking co-integration\n",
    "if c_t[0]<= c_t[4]['10%'] and c_t[1]<= 0.1:\n",
    "    print(\"Pair of securities is co-integrated\")\n",
    "else:\n",
    "    print(\"Pair of securities is not co-integrated\")"
   ]
  },
  {
   "cell_type": "code",
   "execution_count": null,
   "metadata": {},
   "outputs": [],
   "source": []
  },
  {
   "cell_type": "code",
   "execution_count": null,
   "metadata": {},
   "outputs": [],
   "source": []
  }
 ],
 "metadata": {
  "kernelspec": {
   "display_name": "Python 3 (ipykernel)",
   "language": "python",
   "name": "python3"
  },
  "language_info": {
   "codemirror_mode": {
    "name": "ipython",
    "version": 3
   },
   "file_extension": ".py",
   "mimetype": "text/x-python",
   "name": "python",
   "nbconvert_exporter": "python",
   "pygments_lexer": "ipython3",
   "version": "3.10.8"
  },
  "vscode": {
   "interpreter": {
    "hash": "31f2aee4e71d21fbe5cf8b01ff0e069b9275f58929596ceb00d14d90e3e16cd6"
   }
  }
 },
 "nbformat": 4,
 "nbformat_minor": 2
}
